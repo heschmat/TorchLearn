{
  "nbformat": 4,
  "nbformat_minor": 0,
  "metadata": {
    "colab": {
      "provenance": []
    },
    "kernelspec": {
      "name": "python3",
      "display_name": "Python 3"
    },
    "language_info": {
      "name": "python"
    }
  },
  "cells": [
    {
      "cell_type": "markdown",
      "source": [
        "# Convolutional Neural Networks"
      ],
      "metadata": {
        "id": "dT6O6WGinu8a"
      }
    },
    {
      "cell_type": "markdown",
      "source": [
        "## Project: Designing and training a CNN from scratch"
      ],
      "metadata": {
        "id": "lgF25Lv6oCUK"
      }
    },
    {
      "cell_type": "markdown",
      "source": [
        "In this noteook, we'll be creating a CNN from scratch in order to classify landmarks."
      ],
      "metadata": {
        "id": "oqXnrhiuoa0E"
      }
    },
    {
      "cell_type": "markdown",
      "source": [
        "### Step 1: Data"
      ],
      "metadata": {
        "id": "MuFaeu9Ko8CR"
      }
    },
    {
      "cell_type": "code",
      "source": [
        "from src.helpers import setup_env\n",
        "\n",
        "url = \"https://udacity-dlnfd.s3-us-west-1.amazonaws.com/datasets/landmark_images.zip\"\n",
        "setup_env(url)"
      ],
      "metadata": {
        "id": "ooXvcvS8o9h2"
      },
      "execution_count": null,
      "outputs": []
    },
    {
      "cell_type": "code",
      "source": [],
      "metadata": {
        "id": "tolmU7ThomcV"
      },
      "execution_count": null,
      "outputs": []
    },
    {
      "cell_type": "code",
      "source": [],
      "metadata": {
        "id": "1f4HiCg_u7IM"
      },
      "execution_count": null,
      "outputs": []
    }
  ]
}
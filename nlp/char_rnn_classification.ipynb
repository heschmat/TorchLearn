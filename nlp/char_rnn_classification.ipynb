{
  "nbformat": 4,
  "nbformat_minor": 0,
  "metadata": {
    "colab": {
      "provenance": [],
      "toc_visible": true
    },
    "kernelspec": {
      "name": "python3",
      "display_name": "Python 3"
    },
    "language_info": {
      "name": "python"
    }
  },
  "cells": [
    {
      "cell_type": "markdown",
      "source": [
        "# NLP From Scratch\n",
        "## Generating Names with a Character-Level RNN"
      ],
      "metadata": {
        "id": "WWEeNW_-eSGy"
      }
    },
    {
      "cell_type": "code",
      "source": [
        "# Based on the Pytorch Tutorial:\n",
        "# https://pytorch.org/tutorials/intermediate/char_rnn_classification_tutorial.html"
      ],
      "metadata": {
        "id": "3XvuiafyfX4r"
      },
      "execution_count": 1,
      "outputs": []
    },
    {
      "cell_type": "code",
      "execution_count": 2,
      "metadata": {
        "id": "yuf4Iy3GMCka"
      },
      "outputs": [],
      "source": [
        "import time\n",
        "import math\n",
        "import io\n",
        "import glob\n",
        "import os\n",
        "from pathlib import Path\n",
        "import unicodedata\n",
        "import string\n",
        "import random\n",
        "import requests\n",
        "from zipfile import ZipFile"
      ]
    },
    {
      "cell_type": "code",
      "source": [
        "import matplotlib.pyplot as plt\n",
        "import matplotlib.ticker as ticker"
      ],
      "metadata": {
        "id": "rqaFhacDu1LR"
      },
      "execution_count": 3,
      "outputs": []
    },
    {
      "cell_type": "code",
      "source": [
        "import torch\n",
        "import torch.nn as nn\n",
        "import torch.nn.functional as F"
      ],
      "metadata": {
        "id": "iFYN5jXvMUWh"
      },
      "execution_count": 4,
      "outputs": []
    },
    {
      "cell_type": "code",
      "source": [],
      "metadata": {
        "id": "OgJtwXuAdwsz"
      },
      "execution_count": 4,
      "outputs": []
    },
    {
      "cell_type": "code",
      "source": [
        "# Download the file\n",
        "url = 'https://download.pytorch.org/tutorial/data.zip'\n",
        "response = requests.get(url)\n",
        "\n",
        "# Unzip the file\n",
        "with ZipFile(io.BytesIO(response.content)) as z:\n",
        "    z.extractall()  # You can also specify the directory to extract the files.\n",
        "\n",
        "print('Download and extraction complete!')"
      ],
      "metadata": {
        "colab": {
          "base_uri": "https://localhost:8080/"
        },
        "id": "aaFv6flgMUZV",
        "outputId": "34acb649-18b6-41b8-d087-6906d36c56d3"
      },
      "execution_count": 5,
      "outputs": [
        {
          "output_type": "stream",
          "name": "stdout",
          "text": [
            "Download and extraction complete!\n"
          ]
        }
      ]
    },
    {
      "cell_type": "code",
      "source": [
        "def find_files(path):\n",
        "    return glob.glob(path)"
      ],
      "metadata": {
        "id": "lRz46yaBMUcV"
      },
      "execution_count": 6,
      "outputs": []
    },
    {
      "cell_type": "code",
      "source": [
        "# Show the txt files in the directory:\n",
        "for f in find_files('./data/names/*.txt'):\n",
        "    print(f)\n",
        "    # print(f.split('/')[-1])"
      ],
      "metadata": {
        "colab": {
          "base_uri": "https://localhost:8080/"
        },
        "id": "dmy5A43sMYRj",
        "outputId": "8dca9435-e3c9-4458-a646-86caa4b71a1b"
      },
      "execution_count": 7,
      "outputs": [
        {
          "output_type": "stream",
          "name": "stdout",
          "text": [
            "./data/names/Scottish.txt\n",
            "./data/names/German.txt\n",
            "./data/names/Greek.txt\n",
            "./data/names/English.txt\n",
            "./data/names/Polish.txt\n",
            "./data/names/Czech.txt\n",
            "./data/names/Spanish.txt\n",
            "./data/names/Russian.txt\n",
            "./data/names/Irish.txt\n",
            "./data/names/Vietnamese.txt\n",
            "./data/names/Arabic.txt\n",
            "./data/names/Portuguese.txt\n",
            "./data/names/Japanese.txt\n",
            "./data/names/French.txt\n",
            "./data/names/Italian.txt\n",
            "./data/names/Korean.txt\n",
            "./data/names/Chinese.txt\n",
            "./data/names/Dutch.txt\n"
          ]
        }
      ]
    },
    {
      "cell_type": "code",
      "source": [
        "letters = string.ascii_letters + \" .,;'\"\n",
        "n_letters = len(letters)\n",
        "letters"
      ],
      "metadata": {
        "colab": {
          "base_uri": "https://localhost:8080/",
          "height": 35
        },
        "id": "J9d_DVJ9MpvN",
        "outputId": "66e0898b-12cf-4e70-8504-8050d1786d32"
      },
      "execution_count": 8,
      "outputs": [
        {
          "output_type": "execute_result",
          "data": {
            "text/plain": [
              "\"abcdefghijklmnopqrstuvwxyzABCDEFGHIJKLMNOPQRSTUVWXYZ .,;'\""
            ],
            "application/vnd.google.colaboratory.intrinsic+json": {
              "type": "string"
            }
          },
          "metadata": {},
          "execution_count": 8
        }
      ]
    },
    {
      "cell_type": "code",
      "source": [
        "n_letters"
      ],
      "metadata": {
        "colab": {
          "base_uri": "https://localhost:8080/"
        },
        "id": "RoXhUHrKNSW1",
        "outputId": "e9ff18a5-4b56-4dc0-83bb-fa6c5a9f9fce"
      },
      "execution_count": 9,
      "outputs": [
        {
          "output_type": "execute_result",
          "data": {
            "text/plain": [
              "57"
            ]
          },
          "metadata": {},
          "execution_count": 9
        }
      ]
    },
    {
      "cell_type": "markdown",
      "source": [
        "### Fetch the Data"
      ],
      "metadata": {
        "id": "IXWUBz9Ieipz"
      }
    },
    {
      "cell_type": "code",
      "source": [
        "# https://stackoverflow.com/questions/517923/what-is-the-best-way-to-remove-accents-normalize-in-a-python-unicode-string/518232#518232\n",
        "def unicode2ascii(s):\n",
        "    \"\"\"\n",
        "    Trun a Unicode string to plain ASCII.\n",
        "    \"\"\"\n",
        "    return ''.join(\n",
        "        c for c in unicodedata.normalize('NFD', s)\n",
        "        if unicodedata.category(c) != 'Mn'\n",
        "        and c in letters\n",
        "    )"
      ],
      "metadata": {
        "id": "D0iKaRlMNcrR"
      },
      "execution_count": 10,
      "outputs": []
    },
    {
      "cell_type": "code",
      "source": [
        "unicode2ascii('Ślusàrski')"
      ],
      "metadata": {
        "colab": {
          "base_uri": "https://localhost:8080/",
          "height": 35
        },
        "id": "LYjQjDUUOUFb",
        "outputId": "e2ac41c0-b14b-4dbb-9ae2-39eac721825c"
      },
      "execution_count": 11,
      "outputs": [
        {
          "output_type": "execute_result",
          "data": {
            "text/plain": [
              "'Slusarski'"
            ],
            "application/vnd.google.colaboratory.intrinsic+json": {
              "type": "string"
            }
          },
          "metadata": {},
          "execution_count": 11
        }
      ]
    },
    {
      "cell_type": "code",
      "source": [
        "def read_lines(file_name):\n",
        "    with open(file_name, encoding='utf-8') as f:\n",
        "        lines = f.read().strip().split('\\n')\n",
        "    return [unicode2ascii(line) for line in lines]"
      ],
      "metadata": {
        "id": "y_iX7MjvNT8W"
      },
      "execution_count": 12,
      "outputs": []
    },
    {
      "cell_type": "code",
      "source": [
        "path_files = find_files('./data/names/*.txt')\n",
        "print(f'Found {len(path_files)} files.')"
      ],
      "metadata": {
        "colab": {
          "base_uri": "https://localhost:8080/"
        },
        "id": "g_e1bDHjQ32t",
        "outputId": "63b4b267-9f71-4cd8-dcea-d3965e14dcc7"
      },
      "execution_count": 13,
      "outputs": [
        {
          "output_type": "stream",
          "name": "stdout",
          "text": [
            "Found 18 files.\n"
          ]
        }
      ]
    },
    {
      "cell_type": "code",
      "source": [
        "path_files[0]"
      ],
      "metadata": {
        "colab": {
          "base_uri": "https://localhost:8080/",
          "height": 35
        },
        "id": "3rJwVacVRRXz",
        "outputId": "94f107bd-74ef-4137-bb12-9cfbe81bf890"
      },
      "execution_count": 14,
      "outputs": [
        {
          "output_type": "execute_result",
          "data": {
            "text/plain": [
              "'./data/names/Scottish.txt'"
            ],
            "application/vnd.google.colaboratory.intrinsic+json": {
              "type": "string"
            }
          },
          "metadata": {},
          "execution_count": 14
        }
      ]
    },
    {
      "cell_type": "code",
      "source": [
        "os.path.splitext(os.path.basename(path_files[0]))"
      ],
      "metadata": {
        "colab": {
          "base_uri": "https://localhost:8080/"
        },
        "id": "MliG1gcLQGHK",
        "outputId": "fe8bdc52-cab4-4d71-aefa-f2bd280c9107"
      },
      "execution_count": 15,
      "outputs": [
        {
          "output_type": "execute_result",
          "data": {
            "text/plain": [
              "('Scottish', '.txt')"
            ]
          },
          "metadata": {},
          "execution_count": 15
        }
      ]
    },
    {
      "cell_type": "code",
      "source": [
        "path_files[0].split('/')[-1].split('.')"
      ],
      "metadata": {
        "colab": {
          "base_uri": "https://localhost:8080/"
        },
        "id": "X2TACfZqQXJ_",
        "outputId": "1c0bcb90-62d8-408d-bde3-5cb37719f9e4"
      },
      "execution_count": 16,
      "outputs": [
        {
          "output_type": "execute_result",
          "data": {
            "text/plain": [
              "['Scottish', 'txt']"
            ]
          },
          "metadata": {},
          "execution_count": 16
        }
      ]
    },
    {
      "cell_type": "code",
      "source": [
        "Path(path_files[0]).stem"
      ],
      "metadata": {
        "colab": {
          "base_uri": "https://localhost:8080/",
          "height": 35
        },
        "id": "V4EGIqH5cRs_",
        "outputId": "fd7e6435-c0c3-4c4c-f1c3-7c7a15874e0c"
      },
      "execution_count": 17,
      "outputs": [
        {
          "output_type": "execute_result",
          "data": {
            "text/plain": [
              "'Scottish'"
            ],
            "application/vnd.google.colaboratory.intrinsic+json": {
              "type": "string"
            }
          },
          "metadata": {},
          "execution_count": 17
        }
      ]
    },
    {
      "cell_type": "code",
      "source": [],
      "metadata": {
        "id": "Zo8OLy4IcyWR"
      },
      "execution_count": 17,
      "outputs": []
    },
    {
      "cell_type": "code",
      "source": [
        "names_dict = {}\n",
        "for file in path_files:\n",
        "    lang = Path(file).stem\n",
        "    lines = read_lines(file)\n",
        "    names_dict[lang] = lines"
      ],
      "metadata": {
        "id": "9Z66UrftO_Zb"
      },
      "execution_count": 18,
      "outputs": []
    },
    {
      "cell_type": "code",
      "source": [
        "list(names_dict.keys())"
      ],
      "metadata": {
        "colab": {
          "base_uri": "https://localhost:8080/"
        },
        "id": "KhooqK2sc3kp",
        "outputId": "7652795f-740c-46fd-ef82-602eabe63d7d"
      },
      "execution_count": 19,
      "outputs": [
        {
          "output_type": "execute_result",
          "data": {
            "text/plain": [
              "['Scottish',\n",
              " 'German',\n",
              " 'Greek',\n",
              " 'English',\n",
              " 'Polish',\n",
              " 'Czech',\n",
              " 'Spanish',\n",
              " 'Russian',\n",
              " 'Irish',\n",
              " 'Vietnamese',\n",
              " 'Arabic',\n",
              " 'Portuguese',\n",
              " 'Japanese',\n",
              " 'French',\n",
              " 'Italian',\n",
              " 'Korean',\n",
              " 'Chinese',\n",
              " 'Dutch']"
            ]
          },
          "metadata": {},
          "execution_count": 19
        }
      ]
    },
    {
      "cell_type": "code",
      "source": [
        "# How many names in each category/language:\n",
        "name_cnt_lst = [(lang, len(names_dict[lang])) for lang in names_dict]\n",
        "sorted(name_cnt_lst, key=lambda x: x[1], reverse=True)"
      ],
      "metadata": {
        "colab": {
          "base_uri": "https://localhost:8080/"
        },
        "id": "66spgKov9Ivu",
        "outputId": "3a9864ce-bae6-4a56-a2fe-58f35d90dc7e"
      },
      "execution_count": 20,
      "outputs": [
        {
          "output_type": "execute_result",
          "data": {
            "text/plain": [
              "[('Russian', 9408),\n",
              " ('English', 3668),\n",
              " ('Arabic', 2000),\n",
              " ('Japanese', 991),\n",
              " ('German', 724),\n",
              " ('Italian', 709),\n",
              " ('Czech', 519),\n",
              " ('Spanish', 298),\n",
              " ('Dutch', 297),\n",
              " ('French', 277),\n",
              " ('Chinese', 268),\n",
              " ('Irish', 232),\n",
              " ('Greek', 203),\n",
              " ('Polish', 139),\n",
              " ('Scottish', 100),\n",
              " ('Korean', 94),\n",
              " ('Portuguese', 74),\n",
              " ('Vietnamese', 73)]"
            ]
          },
          "metadata": {},
          "execution_count": 20
        }
      ]
    },
    {
      "cell_type": "code",
      "source": [
        "# Totall number of names:\n",
        "sum(len(names_dict[lang]) for lang in names_dict)"
      ],
      "metadata": {
        "colab": {
          "base_uri": "https://localhost:8080/"
        },
        "id": "uc5x-Wnl9dKd",
        "outputId": "10016302-201c-48e4-970a-d46371698a76"
      },
      "execution_count": 21,
      "outputs": [
        {
          "output_type": "execute_result",
          "data": {
            "text/plain": [
              "20074"
            ]
          },
          "metadata": {},
          "execution_count": 21
        }
      ]
    },
    {
      "cell_type": "code",
      "source": [
        "# For every file/language there should be a key in the `names_dict`\n",
        "assert len(names_dict.keys()) == len(path_files)"
      ],
      "metadata": {
        "id": "gCkhh2vMnULI"
      },
      "execution_count": 22,
      "outputs": []
    },
    {
      "cell_type": "code",
      "source": [
        "names_dict['Italian'][:5]"
      ],
      "metadata": {
        "id": "otI0x6kaPG4A",
        "colab": {
          "base_uri": "https://localhost:8080/"
        },
        "outputId": "e798e853-1a42-4a60-cfed-0460fdc31bcb"
      },
      "execution_count": 23,
      "outputs": [
        {
          "output_type": "execute_result",
          "data": {
            "text/plain": [
              "['Abandonato', 'Abatangelo', 'Abatantuono', 'Abate', 'Abategiovanni']"
            ]
          },
          "metadata": {},
          "execution_count": 23
        }
      ]
    },
    {
      "cell_type": "code",
      "source": [
        "def letter2tensor(letter):\n",
        "    \"\"\"\n",
        "    Each letter is represented via \"one-hot-vector of size:\n",
        "    <1 x len(letters)>\n",
        "    `letters` is our vocabulary of all the available letters.\n",
        "    \"\"\"\n",
        "    # Get index of the letter in our *vocab* (letters):\n",
        "    idx = letters.find(letter)\n",
        "    # Create a 1hot-encode of the letter:\n",
        "    t = torch.zeros(1, len(letters))\n",
        "    t[0][idx] = 1  # all zero but its index in the vocab/letters.\n",
        "    return t"
      ],
      "metadata": {
        "id": "5h0PjbeVdIXv"
      },
      "execution_count": 24,
      "outputs": []
    },
    {
      "cell_type": "code",
      "source": [
        "h = letter2tensor('a')\n",
        "h"
      ],
      "metadata": {
        "colab": {
          "base_uri": "https://localhost:8080/"
        },
        "id": "8L4FBbgEenJ1",
        "outputId": "08c22030-a869-44ad-b7b3-823e97826078"
      },
      "execution_count": 25,
      "outputs": [
        {
          "output_type": "execute_result",
          "data": {
            "text/plain": [
              "tensor([[1., 0., 0., 0., 0., 0., 0., 0., 0., 0., 0., 0., 0., 0., 0., 0., 0., 0.,\n",
              "         0., 0., 0., 0., 0., 0., 0., 0., 0., 0., 0., 0., 0., 0., 0., 0., 0., 0.,\n",
              "         0., 0., 0., 0., 0., 0., 0., 0., 0., 0., 0., 0., 0., 0., 0., 0., 0., 0.,\n",
              "         0., 0., 0.]])"
            ]
          },
          "metadata": {},
          "execution_count": 25
        }
      ]
    },
    {
      "cell_type": "code",
      "source": [
        "h.size()"
      ],
      "metadata": {
        "colab": {
          "base_uri": "https://localhost:8080/"
        },
        "id": "sDnegnhLe2ok",
        "outputId": "c6e47cd9-0433-435d-8e7f-65729ee7c145"
      },
      "execution_count": 26,
      "outputs": [
        {
          "output_type": "execute_result",
          "data": {
            "text/plain": [
              "torch.Size([1, 57])"
            ]
          },
          "metadata": {},
          "execution_count": 26
        }
      ]
    },
    {
      "cell_type": "code",
      "source": [
        "def line2tensor(line):\n",
        "    tensor_lst = [letter2tensor(letter).unsqueeze(0) for letter in line]\n",
        "    return torch.cat(tensor_lst, dim=0)"
      ],
      "metadata": {
        "id": "tthC5pYaeo5t"
      },
      "execution_count": 27,
      "outputs": []
    },
    {
      "cell_type": "code",
      "source": [
        "line2tensor('torch')"
      ],
      "metadata": {
        "colab": {
          "base_uri": "https://localhost:8080/"
        },
        "id": "9IbTcI_oevWT",
        "outputId": "c19f176a-c6cb-4a04-8507-60b97e0ce819"
      },
      "execution_count": 28,
      "outputs": [
        {
          "output_type": "execute_result",
          "data": {
            "text/plain": [
              "tensor([[[0., 0., 0., 0., 0., 0., 0., 0., 0., 0., 0., 0., 0., 0., 0., 0., 0.,\n",
              "          0., 0., 1., 0., 0., 0., 0., 0., 0., 0., 0., 0., 0., 0., 0., 0., 0.,\n",
              "          0., 0., 0., 0., 0., 0., 0., 0., 0., 0., 0., 0., 0., 0., 0., 0., 0.,\n",
              "          0., 0., 0., 0., 0., 0.]],\n",
              "\n",
              "        [[0., 0., 0., 0., 0., 0., 0., 0., 0., 0., 0., 0., 0., 0., 1., 0., 0.,\n",
              "          0., 0., 0., 0., 0., 0., 0., 0., 0., 0., 0., 0., 0., 0., 0., 0., 0.,\n",
              "          0., 0., 0., 0., 0., 0., 0., 0., 0., 0., 0., 0., 0., 0., 0., 0., 0.,\n",
              "          0., 0., 0., 0., 0., 0.]],\n",
              "\n",
              "        [[0., 0., 0., 0., 0., 0., 0., 0., 0., 0., 0., 0., 0., 0., 0., 0., 0.,\n",
              "          1., 0., 0., 0., 0., 0., 0., 0., 0., 0., 0., 0., 0., 0., 0., 0., 0.,\n",
              "          0., 0., 0., 0., 0., 0., 0., 0., 0., 0., 0., 0., 0., 0., 0., 0., 0.,\n",
              "          0., 0., 0., 0., 0., 0.]],\n",
              "\n",
              "        [[0., 0., 1., 0., 0., 0., 0., 0., 0., 0., 0., 0., 0., 0., 0., 0., 0.,\n",
              "          0., 0., 0., 0., 0., 0., 0., 0., 0., 0., 0., 0., 0., 0., 0., 0., 0.,\n",
              "          0., 0., 0., 0., 0., 0., 0., 0., 0., 0., 0., 0., 0., 0., 0., 0., 0.,\n",
              "          0., 0., 0., 0., 0., 0.]],\n",
              "\n",
              "        [[0., 0., 0., 0., 0., 0., 0., 1., 0., 0., 0., 0., 0., 0., 0., 0., 0.,\n",
              "          0., 0., 0., 0., 0., 0., 0., 0., 0., 0., 0., 0., 0., 0., 0., 0., 0.,\n",
              "          0., 0., 0., 0., 0., 0., 0., 0., 0., 0., 0., 0., 0., 0., 0., 0., 0.,\n",
              "          0., 0., 0., 0., 0., 0.]]])"
            ]
          },
          "metadata": {},
          "execution_count": 28
        }
      ]
    },
    {
      "cell_type": "code",
      "source": [
        "line2tensor('torch').size()"
      ],
      "metadata": {
        "colab": {
          "base_uri": "https://localhost:8080/"
        },
        "id": "ZtsrNF0ci4yh",
        "outputId": "b9c71b88-2ce0-4e5f-dfd2-c784e0f85298"
      },
      "execution_count": 29,
      "outputs": [
        {
          "output_type": "execute_result",
          "data": {
            "text/plain": [
              "torch.Size([5, 1, 57])"
            ]
          },
          "metadata": {},
          "execution_count": 29
        }
      ]
    },
    {
      "cell_type": "markdown",
      "source": [
        "## Create the Network"
      ],
      "metadata": {
        "id": "X6rTJKbhjKBF"
      }
    },
    {
      "cell_type": "code",
      "source": [
        "class VanillaRNN(nn.Module):\n",
        "    def __init__(self, input_size, hidden_size, output_size):\n",
        "        super().__init__()\n",
        "        self.hidden_size = hidden_size\n",
        "\n",
        "        self.i2h = nn.Linear(input_size, hidden_size)\n",
        "        self.h2h = nn.Linear(hidden_size, hidden_size)\n",
        "        self.h2o = nn.Linear(hidden_size, output_size)\n",
        "        self.softmax = nn.LogSoftmax(dim=1)\n",
        "\n",
        "    def forward(self, input, hidden):\n",
        "        hidden = F.tanh(self.i2h(input) + self.h2h(hidden))\n",
        "        output = self.h2o(hidden)\n",
        "        output = self.softmax(output)\n",
        "        return output, hidden\n",
        "\n",
        "    def init_hidden(self):\n",
        "        return torch.zeros(1, self.hidden_size)"
      ],
      "metadata": {
        "id": "Lbfn7o31jLgU"
      },
      "execution_count": 30,
      "outputs": []
    },
    {
      "cell_type": "code",
      "source": [
        "HIDDEN_SIZE = 128\n",
        "OUTPUT_SIZE = len(names_dict.keys())\n",
        "# initialize the model:\n",
        "rnn = VanillaRNN(len(letters), HIDDEN_SIZE, OUTPUT_SIZE)"
      ],
      "metadata": {
        "id": "m_9tOIsjjiJg"
      },
      "execution_count": 31,
      "outputs": []
    },
    {
      "cell_type": "code",
      "source": [
        "out, next_h = rnn(letter2tensor('A'), torch.zeros(1, HIDDEN_SIZE))"
      ],
      "metadata": {
        "id": "NxXgd8G-jFLh"
      },
      "execution_count": 32,
      "outputs": []
    },
    {
      "cell_type": "code",
      "source": [
        "out  # probability"
      ],
      "metadata": {
        "colab": {
          "base_uri": "https://localhost:8080/"
        },
        "id": "LNDjFXP7n7qg",
        "outputId": "bf541356-134e-40e6-bec9-6d6d5abbbd18"
      },
      "execution_count": 33,
      "outputs": [
        {
          "output_type": "execute_result",
          "data": {
            "text/plain": [
              "tensor([[-2.7144, -3.0431, -2.9779, -2.8620, -2.8765, -2.7689, -2.8551, -2.9864,\n",
              "         -2.9697, -2.9200, -2.9481, -2.8014, -2.8186, -2.9337, -2.9188, -2.8147,\n",
              "         -2.9269, -2.9538]], grad_fn=<LogSoftmaxBackward0>)"
            ]
          },
          "metadata": {},
          "execution_count": 33
        }
      ]
    },
    {
      "cell_type": "code",
      "source": [
        "next_h"
      ],
      "metadata": {
        "colab": {
          "base_uri": "https://localhost:8080/"
        },
        "id": "gVLXjbZgnCFi",
        "outputId": "4cda2e97-9e6e-4acf-a4ce-ba5f5d501994"
      },
      "execution_count": 34,
      "outputs": [
        {
          "output_type": "execute_result",
          "data": {
            "text/plain": [
              "tensor([[ 0.0718,  0.0506,  0.0898, -0.0643, -0.1528, -0.1589,  0.1002, -0.0767,\n",
              "          0.0595, -0.1123, -0.2378, -0.0480,  0.1263,  0.0947, -0.1481,  0.1257,\n",
              "          0.0772,  0.0508,  0.0545, -0.0663, -0.0806,  0.0465, -0.0901, -0.0142,\n",
              "          0.0378,  0.1097,  0.0962,  0.0610, -0.0668,  0.0815, -0.0771,  0.0802,\n",
              "          0.1253,  0.0547, -0.0168,  0.0826, -0.1825, -0.1053, -0.0015,  0.1798,\n",
              "         -0.1052, -0.0381,  0.0797, -0.0629,  0.0227,  0.1984, -0.0502,  0.0254,\n",
              "          0.1726, -0.0307, -0.0950, -0.0122,  0.0686,  0.0551, -0.1548, -0.0368,\n",
              "          0.1669,  0.2414, -0.0694, -0.0912, -0.0231, -0.0230,  0.0156,  0.2187,\n",
              "          0.1769,  0.0551,  0.0266, -0.0293,  0.2152,  0.0353,  0.0947, -0.1074,\n",
              "          0.1727,  0.0122, -0.0565, -0.1034, -0.0140,  0.0032, -0.0284,  0.0733,\n",
              "          0.1186,  0.0016,  0.0027, -0.1742, -0.1460,  0.1093, -0.1196,  0.2419,\n",
              "          0.0957,  0.0371, -0.1404, -0.1262,  0.1447, -0.0296, -0.1916,  0.0045,\n",
              "         -0.1019,  0.0334, -0.0612, -0.0895,  0.0504, -0.0817,  0.2524,  0.0100,\n",
              "         -0.0823,  0.0804, -0.1072, -0.1219, -0.0223,  0.0305, -0.0686, -0.0610,\n",
              "          0.0194, -0.0498,  0.0403, -0.1690,  0.0212, -0.1748, -0.1501, -0.2177,\n",
              "         -0.1898, -0.2568, -0.1112, -0.1444, -0.2062,  0.0946, -0.1293,  0.0940]],\n",
              "       grad_fn=<TanhBackward0>)"
            ]
          },
          "metadata": {},
          "execution_count": 34
        }
      ]
    },
    {
      "cell_type": "code",
      "source": [
        "next_h.size()"
      ],
      "metadata": {
        "colab": {
          "base_uri": "https://localhost:8080/"
        },
        "id": "3DWrUaXhoNFa",
        "outputId": "4d635141-02e1-46a3-ad07-297885b94ca3"
      },
      "execution_count": 35,
      "outputs": [
        {
          "output_type": "execute_result",
          "data": {
            "text/plain": [
              "torch.Size([1, 128])"
            ]
          },
          "metadata": {},
          "execution_count": 35
        }
      ]
    },
    {
      "cell_type": "code",
      "source": [
        "out.topk(1)"
      ],
      "metadata": {
        "colab": {
          "base_uri": "https://localhost:8080/"
        },
        "id": "p1sWJSD6oxGm",
        "outputId": "8b387667-4c2f-4a9a-a5e2-fc01fed6c1c8"
      },
      "execution_count": 36,
      "outputs": [
        {
          "output_type": "execute_result",
          "data": {
            "text/plain": [
              "torch.return_types.topk(\n",
              "values=tensor([[-2.7144]], grad_fn=<TopkBackward0>),\n",
              "indices=tensor([[0]]))"
            ]
          },
          "metadata": {},
          "execution_count": 36
        }
      ]
    },
    {
      "cell_type": "code",
      "source": [
        "langs = list(names_dict.keys())\n",
        "\n",
        "def get_likely_lang(output):\n",
        "    max_val, max_idx = output.topk(1)\n",
        "    cat_idx = max_idx.squeeze().item()\n",
        "    return langs[cat_idx], cat_idx"
      ],
      "metadata": {
        "id": "K1cMG1XxpYd-"
      },
      "execution_count": 37,
      "outputs": []
    },
    {
      "cell_type": "code",
      "source": [
        "get_likely_lang(out)"
      ],
      "metadata": {
        "colab": {
          "base_uri": "https://localhost:8080/"
        },
        "id": "E0X8ao5MqRFw",
        "outputId": "8637583f-283f-44b6-eec3-5f3d26e40f08"
      },
      "execution_count": 38,
      "outputs": [
        {
          "output_type": "execute_result",
          "data": {
            "text/plain": [
              "('Scottish', 0)"
            ]
          },
          "metadata": {},
          "execution_count": 38
        }
      ]
    },
    {
      "cell_type": "code",
      "source": [
        "def get_rnd_example():\n",
        "    \"\"\"Randomly pick a name & its language.\"\"\"\n",
        "    lang = random.choice(langs)\n",
        "    name = random.choice(names_dict[lang])\n",
        "    lang_tensor = torch.tensor([langs.index(lang)], dtype=torch.long)\n",
        "    name_tensor = line2tensor(name)\n",
        "    return (lang, name), (lang_tensor, name_tensor)\n"
      ],
      "metadata": {
        "id": "AT38WYpnqTxR"
      },
      "execution_count": 39,
      "outputs": []
    },
    {
      "cell_type": "code",
      "source": [
        "for _ in range(10):\n",
        "    res, res_tensor = get_rnd_example()\n",
        "    lang, name = res\n",
        "    print(f'language = {lang}/ name = {name}')"
      ],
      "metadata": {
        "colab": {
          "base_uri": "https://localhost:8080/"
        },
        "id": "VgRjN7E8rwZ3",
        "outputId": "6abdcf01-74c8-4ec5-e748-a9392f6b7ad5"
      },
      "execution_count": 40,
      "outputs": [
        {
          "output_type": "stream",
          "name": "stdout",
          "text": [
            "language = English/ name = Franklin\n",
            "language = Russian/ name = Mihelyus\n",
            "language = Arabic/ name = Issa\n",
            "language = French/ name = Lemieux\n",
            "language = Korean/ name = Nam\n",
            "language = Chinese/ name = Thean\n",
            "language = Greek/ name = Gianakopulos\n",
            "language = Korean/ name = Byon\n",
            "language = Chinese/ name = Ran\n",
            "language = Greek/ name = Sakellariou\n"
          ]
        }
      ]
    },
    {
      "cell_type": "markdown",
      "source": [
        "## Training the Network"
      ],
      "metadata": {
        "id": "w3H1_ob-gxE2"
      }
    },
    {
      "cell_type": "markdown",
      "source": [
        "Now all it takes to train the network is to show it a bunch of examples, have it make guesses, and tell it if it's wrong.   \n",
        "\n",
        "For the loss function `nn.NLLLoss` is appropriate, since the last layer of the RNN is `nn.LogSoftmax`."
      ],
      "metadata": {
        "id": "c11w6YaegzLS"
      }
    },
    {
      "cell_type": "code",
      "source": [
        "criterion = nn.NLLLoss()"
      ],
      "metadata": {
        "id": "enL84di1hCMu"
      },
      "execution_count": 41,
      "outputs": []
    },
    {
      "cell_type": "code",
      "source": [
        "def train(lang, name):\n",
        "    \"\"\"\n",
        "    Training phase.\n",
        "    lang & name are tensors.\n",
        "    \"\"\"\n",
        "    hidden = rnn.init_hidden()  # create a zeroed initial hidden state\n",
        "\n",
        "    rnn.zero_grad()\n",
        "\n",
        "    for i in range(name.size()[0]):\n",
        "        output, hidden = rnn(name[i], hidden)\n",
        "\n",
        "    loss = criterion(output, lang)\n",
        "    loss.backward()\n",
        "\n",
        "    # Add parametes' gradients to their values, multiplied by lr.\n",
        "    for param in rnn.parameters():\n",
        "        param.data.add_(param.grad.data, alpha=-learning_rate)\n",
        "\n",
        "    return output, loss.item()"
      ],
      "metadata": {
        "id": "dZV7ml87gyvV"
      },
      "execution_count": 42,
      "outputs": []
    },
    {
      "cell_type": "code",
      "source": [
        "def time_since_min_sec(start):\n",
        "    seconds = time.time() - start\n",
        "    minutes = math.floor(seconds / 60)\n",
        "    seconds -= minutes * 60\n",
        "    return f'{minutes}m - {int(seconds)}s'\n"
      ],
      "metadata": {
        "id": "dEZ1Jp8toQVr"
      },
      "execution_count": 43,
      "outputs": []
    },
    {
      "cell_type": "code",
      "source": [
        "t0 = time.time()\n",
        "time.sleep(19)\n",
        "time_since_min_sec(t0)"
      ],
      "metadata": {
        "colab": {
          "base_uri": "https://localhost:8080/",
          "height": 35
        },
        "id": "lNxa1HSco97U",
        "outputId": "575eb9bb-563d-4478-f3a9-e34d3f105c92"
      },
      "execution_count": 44,
      "outputs": [
        {
          "output_type": "execute_result",
          "data": {
            "text/plain": [
              "'0m - 19s'"
            ],
            "application/vnd.google.colaboratory.intrinsic+json": {
              "type": "string"
            }
          },
          "metadata": {},
          "execution_count": 44
        }
      ]
    },
    {
      "cell_type": "code",
      "source": [
        "N_ITERATIONS = int(2e5)\n",
        "\n",
        "PRINT_EVERY = 10000\n",
        "PLOT_EVERY  = 2000\n",
        "\n",
        "learning_rate = .001\n",
        "# Keep track of losses for plotting.\n",
        "current_loss = 0\n",
        "loss_lst = []\n",
        "\n",
        "\n",
        "t0 = time.time()\n",
        "for i in range(1, N_ITERATIONS+1):\n",
        "    lang_name, lang_name_tensor = get_rnd_example()\n",
        "    output, loss = train(*lang_name_tensor)\n",
        "    current_loss += loss\n",
        "\n",
        "    # Print `epoch` number, loss, name, and guess:\n",
        "    lang, name = lang_name\n",
        "    if i == 1 or i % PRINT_EVERY == 0:\n",
        "        guess, guess_idx = get_likely_lang(output)\n",
        "        correct = '✓' if guess == lang else f'✗ ({lang})'\n",
        "        print(\n",
        "            f'EPOCH [{i}/{N_ITERATIONS}] {i*100/N_ITERATIONS:.0f}% ',\n",
        "            f'({time_since_min_sec(t0)}), Loss: {loss:.4f} ',\n",
        "            f'{name} / {guess} {correct}'\n",
        "        )\n",
        "\n",
        "    if i == 1 or i % PLOT_EVERY == 0:\n",
        "        loss_lst.append(current_loss / PLOT_EVERY)\n",
        "        current_loss = 0"
      ],
      "metadata": {
        "colab": {
          "base_uri": "https://localhost:8080/"
        },
        "id": "CmLPl83CiZQG",
        "outputId": "039e74c9-b717-4d30-e4f0-1943943473b9"
      },
      "execution_count": 46,
      "outputs": [
        {
          "output_type": "stream",
          "name": "stdout",
          "text": [
            "EPOCH [1/200000] 0%  (0m - 0s), Loss: 2.8321  Asghar / Czech ✗ (Arabic)\n",
            "EPOCH [10000/200000] 5%  (0m - 21s), Loss: 2.6812  Jagoda / Japanese ✗ (Polish)\n",
            "EPOCH [20000/200000] 10%  (0m - 42s), Loss: 1.4734  Dam / Chinese ✗ (Vietnamese)\n",
            "EPOCH [30000/200000] 15%  (1m - 3s), Loss: 1.8941  Roosevelt / Dutch ✓\n",
            "EPOCH [40000/200000] 20%  (1m - 24s), Loss: 2.7288  Sauvageot / Russian ✗ (French)\n",
            "EPOCH [50000/200000] 25%  (1m - 44s), Loss: 0.2956  Sokolowski / Polish ✓\n",
            "EPOCH [60000/200000] 30%  (2m - 8s), Loss: 1.4403  Faltysek / Polish ✗ (Czech)\n",
            "EPOCH [70000/200000] 35%  (2m - 28s), Loss: 1.5348  Franco / Spanish ✗ (Portuguese)\n",
            "EPOCH [80000/200000] 40%  (2m - 50s), Loss: 2.3794  Esenchuk / Czech ✗ (Russian)\n",
            "EPOCH [90000/200000] 45%  (3m - 11s), Loss: 3.1156  Gavril / French ✗ (Greek)\n",
            "EPOCH [100000/200000] 50%  (3m - 31s), Loss: 1.8413  Traversa / Portuguese ✗ (Italian)\n",
            "EPOCH [110000/200000] 55%  (3m - 53s), Loss: 1.0738  Mach / Vietnamese ✓\n",
            "EPOCH [120000/200000] 60%  (4m - 13s), Loss: 0.0832  Bartalotti / Italian ✓\n",
            "EPOCH [130000/200000] 65%  (4m - 34s), Loss: 0.0350  Shimanouchi / Japanese ✓\n",
            "EPOCH [140000/200000] 70%  (4m - 56s), Loss: 0.5028  Fionn / Irish ✓\n",
            "EPOCH [150000/200000] 75%  (5m - 15s), Loss: 0.4834  Guan / Chinese ✓\n",
            "EPOCH [160000/200000] 80%  (5m - 36s), Loss: 3.1926  Mawson / Scottish ✗ (English)\n",
            "EPOCH [170000/200000] 85%  (5m - 56s), Loss: 1.0707  Schwarzenberg / Dutch ✓\n",
            "EPOCH [180000/200000] 90%  (6m - 17s), Loss: 2.5261  Profeta / Spanish ✗ (Italian)\n",
            "EPOCH [190000/200000] 95%  (6m - 39s), Loss: 0.2208  Abbatantuono / Italian ✓\n",
            "EPOCH [200000/200000] 100%  (6m - 58s), Loss: 0.2286  Shon / Korean ✓\n"
          ]
        }
      ]
    },
    {
      "cell_type": "code",
      "source": [
        "plt.figure(figsize=(8, 6))\n",
        "plt.plot(loss_lst[1:])"
      ],
      "metadata": {
        "id": "2_EdanJ4n6Cf",
        "colab": {
          "base_uri": "https://localhost:8080/",
          "height": 539
        },
        "outputId": "fcf509ae-5162-40bd-e8a5-7d0d65066e5a"
      },
      "execution_count": 47,
      "outputs": [
        {
          "output_type": "execute_result",
          "data": {
            "text/plain": [
              "[<matplotlib.lines.Line2D at 0x790a642c9090>]"
            ]
          },
          "metadata": {},
          "execution_count": 47
        },
        {
          "output_type": "display_data",
          "data": {
            "text/plain": [
              "<Figure size 800x600 with 1 Axes>"
            ],
            "image/png": "[encoded data removed]"
          },
          "metadata": {}
        }
      ]
    },
    {
      "cell_type": "markdown",
      "source": [
        "## Evaluating the results"
      ],
      "metadata": {
        "id": "wIJvRD7S_8Gs"
      }
    },
    {
      "cell_type": "code",
      "source": [
        "conf_matrix = torch.zeros(len(langs), len(langs))\n",
        "\n",
        "def evaluate(name):\n",
        "    \"\"\"\n",
        "    Retruns the prediction given the name.\n",
        "    name: tensor\n",
        "    \"\"\"\n",
        "    hidden = rnn.init_hidden()\n",
        "\n",
        "    for i in range(name.size()[0]):\n",
        "        output, hidden = rnn(name[i], hidden)\n",
        "\n",
        "    return output"
      ],
      "metadata": {
        "id": "Iusmap5y_98C"
      },
      "execution_count": 48,
      "outputs": []
    },
    {
      "cell_type": "code",
      "source": [
        "# Go through a bunch of examples and record whic are correctly guessed:\n",
        "len_tst_examples = 10000\n",
        "\n",
        "for i in range(len_tst_examples):\n",
        "    _, res = get_rnd_example()\n",
        "    lang, name = res\n",
        "    output = evaluate(name)\n",
        "    guess, guess_idx = get_likely_lang(output)\n",
        "    lang_idx = langs.index(_[0])\n",
        "    conf_matrix[lang_idx][guess_idx] += 1\n",
        "\n",
        "# Normalize by dividing each row by its sum:\n",
        "for i in range(len(langs)):\n",
        "    conf_matrix[i] = conf_matrix[i] / conf_matrix[i].sum()"
      ],
      "metadata": {
        "id": "IIBSnXiJvErX"
      },
      "execution_count": 49,
      "outputs": []
    },
    {
      "cell_type": "code",
      "source": [
        "# Set up confusion matrix plot:\n",
        "fig = plt.figure(figsize=(10, 8))\n",
        "ax = fig.add_subplot(111)\n",
        "cax = ax.matshow(conf_matrix.numpy())\n",
        "fig.colorbar(cax)\n",
        "\n",
        "# Set tick positions and labels\n",
        "ax.set_xticks(range(len(langs)))\n",
        "ax.set_xticklabels(langs, rotation=90)\n",
        "ax.set_yticks(range(len(langs)))\n",
        "ax.set_yticklabels(langs)\n",
        "\n",
        "ax.xaxis.set_major_locator(ticker.MultipleLocator(1))\n",
        "ax.yaxis.set_major_locator(ticker.MultipleLocator(1))\n",
        "\n",
        "plt.show()"
      ],
      "metadata": {
        "colab": {
          "base_uri": "https://localhost:8080/",
          "height": 735
        },
        "id": "zBaTb61eColN",
        "outputId": "5de93fdb-c9c4-489b-8dc9-2bcbfef302ac"
      },
      "execution_count": 50,
      "outputs": [
        {
          "output_type": "display_data",
          "data": {
            "text/plain": [
              "<Figure size 1000x800 with 2 Axes>"
            ],
            "image/png": "[encoded data removed]"
          },
          "metadata": {}
        }
      ]
    },
    {
      "cell_type": "code",
      "source": [
        "# Bright spots off the main axis show which language is guessed incorrectly.\n",
        "# It seems to do well with Greek;\n",
        "# also, very poorly with English (perhaps because of overlap with other languages?)"
      ],
      "metadata": {
        "id": "HBoA2YAsFBbZ"
      },
      "execution_count": 51,
      "outputs": []
    },
    {
      "cell_type": "markdown",
      "source": [
        "## Predict on User Input"
      ],
      "metadata": {
        "id": "F6Zr_EMkF8Tm"
      }
    },
    {
      "cell_type": "code",
      "source": [
        "def predict(name, n_predictions=3):\n",
        "    print(f'\\n> {name}')\n",
        "    with torch.inference_mode():\n",
        "        output = evaluate(line2tensor(name))\n",
        "        preds = F.softmax(output, dim=1)\n",
        "    # Get top categories:\n",
        "    topv, topi = preds.topk(n_predictions, 1, True)\n",
        "    predictions = []\n",
        "\n",
        "    for i in range(n_predictions):\n",
        "        value = topv[0][i].item()\n",
        "        lang_idx = topi[0][i].item()\n",
        "        print(f'({value*100:.2f}%) {langs[lang_idx]}')\n",
        "        predictions.append((value, langs[lang_idx]))\n",
        "\n",
        "    return predictions"
      ],
      "metadata": {
        "id": "GZiloVogF-_E"
      },
      "execution_count": 52,
      "outputs": []
    },
    {
      "cell_type": "code",
      "source": [
        "_ = predict('Dovesky')"
      ],
      "metadata": {
        "colab": {
          "base_uri": "https://localhost:8080/"
        },
        "id": "vyKADfbOH9yQ",
        "outputId": "bf974e2b-c64b-4588-9be7-d12afaf07a06"
      },
      "execution_count": 53,
      "outputs": [
        {
          "output_type": "stream",
          "name": "stdout",
          "text": [
            "\n",
            "> Dovesky\n",
            "(54.67%) Czech\n",
            "(35.12%) Russian\n",
            "(4.59%) English\n"
          ]
        }
      ]
    },
    {
      "cell_type": "code",
      "source": [
        "_ = predict('Satoshi')"
      ],
      "metadata": {
        "colab": {
          "base_uri": "https://localhost:8080/"
        },
        "id": "gDN9ndQPGl3i",
        "outputId": "a181d445-a0d4-4885-ab46-f57a827b86fd"
      },
      "execution_count": 54,
      "outputs": [
        {
          "output_type": "stream",
          "name": "stdout",
          "text": [
            "\n",
            "> Satoshi\n",
            "(54.17%) Japanese\n",
            "(38.45%) Arabic\n",
            "(3.53%) Italian\n"
          ]
        }
      ]
    },
    {
      "cell_type": "code",
      "source": [
        "_ = predict('Hesch')"
      ],
      "metadata": {
        "colab": {
          "base_uri": "https://localhost:8080/"
        },
        "id": "5ua60yC-GpCZ",
        "outputId": "c5b342eb-c176-4563-8c25-ef0ddca5d05b"
      },
      "execution_count": 55,
      "outputs": [
        {
          "output_type": "stream",
          "name": "stdout",
          "text": [
            "\n",
            "> Hesch\n",
            "(43.36%) Czech\n",
            "(24.69%) German\n",
            "(10.98%) English\n"
          ]
        }
      ]
    },
    {
      "cell_type": "code",
      "source": [],
      "metadata": {
        "id": "iQHjk4A9ITXC"
      },
      "execution_count": 55,
      "outputs": []
    }
  ]
}
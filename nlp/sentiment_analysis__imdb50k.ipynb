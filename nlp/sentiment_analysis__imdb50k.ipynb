{
  "nbformat": 4,
  "nbformat_minor": 0,
  "metadata": {
    "colab": {
      "provenance": []
    },
    "kernelspec": {
      "name": "python3",
      "display_name": "Python 3"
    },
    "language_info": {
      "name": "python"
    }
  },
  "cells": [
    {
      "cell_type": "code",
      "source": [
        "import pandas as pd"
      ],
      "metadata": {
        "id": "ntX45Qs4krmq"
      },
      "execution_count": null,
      "outputs": []
    },
    {
      "cell_type": "code",
      "source": [
        "from sklearn.metrics import accuracy_score"
      ],
      "metadata": {
        "id": "fbX9nOS-OrNo"
      },
      "execution_count": null,
      "outputs": []
    },
    {
      "cell_type": "code",
      "source": [
        "import torch\n",
        "import torch.nn as nn\n",
        "import torch.nn.functional as F\n",
        "from torch.utils.data import Dataset, DataLoader\n",
        "from torch.utils.data.dataset import random_split\n",
        "from torch.nn.utils.rnn import pad_sequence"
      ],
      "metadata": {
        "id": "s86tx_ywm2LW"
      },
      "execution_count": null,
      "outputs": []
    },
    {
      "cell_type": "code",
      "source": [
        "from torchtext.vocab import build_vocab_from_iterator"
      ],
      "metadata": {
        "colab": {
          "base_uri": "https://localhost:8080/"
        },
        "id": "4YgKkVSSnR68",
        "outputId": "7fd91ff3-2f2d-490b-897f-431002781ae1"
      },
      "execution_count": null,
      "outputs": [
        {
          "output_type": "stream",
          "name": "stderr",
          "text": [
            "/usr/local/lib/python3.10/dist-packages/torchtext/vocab/__init__.py:4: UserWarning: \n",
            "/!\\ IMPORTANT WARNING ABOUT TORCHTEXT STATUS /!\\ \n",
            "Torchtext is deprecated and the last released version will be 0.18 (this one). You can silence this warning by calling the following at the beginnign of your scripts: `import torchtext; torchtext.disable_torchtext_deprecation_warning()`\n",
            "  warnings.warn(torchtext._TORCHTEXT_DEPRECATION_MSG)\n",
            "/usr/local/lib/python3.10/dist-packages/torchtext/utils.py:4: UserWarning: \n",
            "/!\\ IMPORTANT WARNING ABOUT TORCHTEXT STATUS /!\\ \n",
            "Torchtext is deprecated and the last released version will be 0.18 (this one). You can silence this warning by calling the following at the beginnign of your scripts: `import torchtext; torchtext.disable_torchtext_deprecation_warning()`\n",
            "  warnings.warn(torchtext._TORCHTEXT_DEPRECATION_MSG)\n"
          ]
        }
      ]
    },
    {
      "cell_type": "code",
      "source": [
        "from torchtext.data.utils import get_tokenizer"
      ],
      "metadata": {
        "colab": {
          "base_uri": "https://localhost:8080/"
        },
        "id": "kV8FkjiYneTG",
        "outputId": "3f271067-2db2-4333-bdbb-5449c02ce59b"
      },
      "execution_count": null,
      "outputs": [
        {
          "output_type": "stream",
          "name": "stderr",
          "text": [
            "/usr/local/lib/python3.10/dist-packages/torchtext/data/__init__.py:4: UserWarning: \n",
            "/!\\ IMPORTANT WARNING ABOUT TORCHTEXT STATUS /!\\ \n",
            "Torchtext is deprecated and the last released version will be 0.18 (this one). You can silence this warning by calling the following at the beginnign of your scripts: `import torchtext; torchtext.disable_torchtext_deprecation_warning()`\n",
            "  warnings.warn(torchtext._TORCHTEXT_DEPRECATION_MSG)\n"
          ]
        }
      ]
    },
    {
      "cell_type": "code",
      "source": [],
      "metadata": {
        "id": "h5L4FoPJoSHW"
      },
      "execution_count": null,
      "outputs": []
    },
    {
      "cell_type": "code",
      "source": [
        "# https://www.kaggle.com/datasets/lakshmi25npathi/imdb-dataset-of-50k-movie-reviews/data\n",
        "df = pd.read_csv('./imdb.csv')\n",
        "df.shape"
      ],
      "metadata": {
        "colab": {
          "base_uri": "https://localhost:8080/"
        },
        "id": "-SsTCHagoSDz",
        "outputId": "21888327-6cfb-496f-d8d8-cc4a26521287"
      },
      "execution_count": null,
      "outputs": [
        {
          "output_type": "execute_result",
          "data": {
            "text/plain": [
              "(50000, 2)"
            ]
          },
          "metadata": {},
          "execution_count": 6
        }
      ]
    },
    {
      "cell_type": "code",
      "source": [
        "df.sample(3)"
      ],
      "metadata": {
        "colab": {
          "base_uri": "https://localhost:8080/",
          "height": 143
        },
        "id": "tuBSAEr-oSud",
        "outputId": "202a3ec8-4631-4ef7-f383-4f1cfd70a722"
      },
      "execution_count": null,
      "outputs": [
        {
          "output_type": "execute_result",
          "data": {
            "text/plain": [
              "                                                  review sentiment\n",
              "30888  What more could I say? The Americans totally h...  positive\n",
              "1001   Why do movie makers always go against the auth...  negative\n",
              "28864  Derek Jarman has shown us time and time again ...  negative"
            ],
            "text/html": [
              "\n",
              "  <div id=\"df-097c63e5-59bb-49cd-9b29-f76d60c75603\" class=\"colab-df-container\">\n",
              "    <div>\n",
              "<style scoped>\n",
              "    .dataframe tbody tr th:only-of-type {\n",
              "        vertical-align: middle;\n",
              "    }\n",
              "\n",
              "    .dataframe tbody tr th {\n",
              "        vertical-align: top;\n",
              "    }\n",
              "\n",
              "    .dataframe thead th {\n",
              "        text-align: right;\n",
              "    }\n",
              "</style>\n",
              "<table border=\"1\" class=\"dataframe\">\n",
              "  <thead>\n",
              "    <tr style=\"text-align: right;\">\n",
              "      <th></th>\n",
              "      <th>review</th>\n",
              "      <th>sentiment</th>\n",
              "    </tr>\n",
              "  </thead>\n",
              "  <tbody>\n",
              "    <tr>\n",
              "      <th>30888</th>\n",
              "      <td>What more could I say? The Americans totally h...</td>\n",
              "      <td>positive</td>\n",
              "    </tr>\n",
              "    <tr>\n",
              "      <th>1001</th>\n",
              "      <td>Why do movie makers always go against the auth...</td>\n",
              "      <td>negative</td>\n",
              "    </tr>\n",
              "    <tr>\n",
              "      <th>28864</th>\n",
              "      <td>Derek Jarman has shown us time and time again ...</td>\n",
              "      <td>negative</td>\n",
              "    </tr>\n",
              "  </tbody>\n",
              "</table>\n",
              "</div>\n",
              "    <div class=\"colab-df-buttons\">\n",
              "\n",
              "  <div class=\"colab-df-container\">\n",
              "    <button class=\"colab-df-convert\" onclick=\"convertToInteractive('df-097c63e5-59bb-49cd-9b29-f76d60c75603')\"\n",
              "            title=\"Convert this dataframe to an interactive table.\"\n",
              "            style=\"display:none;\">\n",
              "\n",
              "  <svg xmlns=\"http://www.w3.org/2000/svg\" height=\"24px\" viewBox=\"0 -960 960 960\">\n",
              "    <path d=\"M120-120v-720h720v720H120Zm60-500h600v-160H180v160Zm220 220h160v-160H400v160Zm0 220h160v-160H400v160ZM180-400h160v-160H180v160Zm440 0h160v-160H620v160ZM180-180h160v-160H180v160Zm440 0h160v-160H620v160Z\"/>\n",
              "  </svg>\n",
              "    </button>\n",
              "\n",
              "  <style>\n",
              "    .colab-df-container {\n",
              "      display:flex;\n",
              "      gap: 12px;\n",
              "    }\n",
              "\n",
              "    .colab-df-convert {\n",
              "      background-color: #E8F0FE;\n",
              "      border: none;\n",
              "      border-radius: 50%;\n",
              "      cursor: pointer;\n",
              "      display: none;\n",
              "      fill: #1967D2;\n",
              "      height: 32px;\n",
              "      padding: 0 0 0 0;\n",
              "      width: 32px;\n",
              "    }\n",
              "\n",
              "    .colab-df-convert:hover {\n",
              "      background-color: #E2EBFA;\n",
              "      box-shadow: 0px 1px 2px rgba(60, 64, 67, 0.3), 0px 1px 3px 1px rgba(60, 64, 67, 0.15);\n",
              "      fill: #174EA6;\n",
              "    }\n",
              "\n",
              "    .colab-df-buttons div {\n",
              "      margin-bottom: 4px;\n",
              "    }\n",
              "\n",
              "    [theme=dark] .colab-df-convert {\n",
              "      background-color: #3B4455;\n",
              "      fill: #D2E3FC;\n",
              "    }\n",
              "\n",
              "    [theme=dark] .colab-df-convert:hover {\n",
              "      background-color: #434B5C;\n",
              "      box-shadow: 0px 1px 3px 1px rgba(0, 0, 0, 0.15);\n",
              "      filter: drop-shadow(0px 1px 2px rgba(0, 0, 0, 0.3));\n",
              "      fill: #FFFFFF;\n",
              "    }\n",
              "  </style>\n",
              "\n",
              "    <script>\n",
              "      const buttonEl =\n",
              "        document.querySelector('#df-097c63e5-59bb-49cd-9b29-f76d60c75603 button.colab-df-convert');\n",
              "      buttonEl.style.display =\n",
              "        google.colab.kernel.accessAllowed ? 'block' : 'none';\n",
              "\n",
              "      async function convertToInteractive(key) {\n",
              "        const element = document.querySelector('#df-097c63e5-59bb-49cd-9b29-f76d60c75603');\n",
              "        const dataTable =\n",
              "          await google.colab.kernel.invokeFunction('convertToInteractive',\n",
              "                                                    [key], {});\n",
              "        if (!dataTable) return;\n",
              "\n",
              "        const docLinkHtml = 'Like what you see? Visit the ' +\n",
              "          '<a target=\"_blank\" href=https://colab.research.google.com/notebooks/data_table.ipynb>data table notebook</a>'\n",
              "          + ' to learn more about interactive tables.';\n",
              "        element.innerHTML = '';\n",
              "        dataTable['output_type'] = 'display_data';\n",
              "        await google.colab.output.renderOutput(dataTable, element);\n",
              "        const docLink = document.createElement('div');\n",
              "        docLink.innerHTML = docLinkHtml;\n",
              "        element.appendChild(docLink);\n",
              "      }\n",
              "    </script>\n",
              "  </div>\n",
              "\n",
              "\n",
              "<div id=\"df-d265d7e3-74e4-4049-94a6-eab06c49772f\">\n",
              "  <button class=\"colab-df-quickchart\" onclick=\"quickchart('df-d265d7e3-74e4-4049-94a6-eab06c49772f')\"\n",
              "            title=\"Suggest charts\"\n",
              "            style=\"display:none;\">\n",
              "\n",
              "<svg xmlns=\"http://www.w3.org/2000/svg\" height=\"24px\"viewBox=\"0 0 24 24\"\n",
              "     width=\"24px\">\n",
              "    <g>\n",
              "        <path d=\"M19 3H5c-1.1 0-2 .9-2 2v14c0 1.1.9 2 2 2h14c1.1 0 2-.9 2-2V5c0-1.1-.9-2-2-2zM9 17H7v-7h2v7zm4 0h-2V7h2v10zm4 0h-2v-4h2v4z\"/>\n",
              "    </g>\n",
              "</svg>\n",
              "  </button>\n",
              "\n",
              "<style>\n",
              "  .colab-df-quickchart {\n",
              "      --bg-color: #E8F0FE;\n",
              "      --fill-color: #1967D2;\n",
              "      --hover-bg-color: #E2EBFA;\n",
              "      --hover-fill-color: #174EA6;\n",
              "      --disabled-fill-color: #AAA;\n",
              "      --disabled-bg-color: #DDD;\n",
              "  }\n",
              "\n",
              "  [theme=dark] .colab-df-quickchart {\n",
              "      --bg-color: #3B4455;\n",
              "      --fill-color: #D2E3FC;\n",
              "      --hover-bg-color: #434B5C;\n",
              "      --hover-fill-color: #FFFFFF;\n",
              "      --disabled-bg-color: #3B4455;\n",
              "      --disabled-fill-color: #666;\n",
              "  }\n",
              "\n",
              "  .colab-df-quickchart {\n",
              "    background-color: var(--bg-color);\n",
              "    border: none;\n",
              "    border-radius: 50%;\n",
              "    cursor: pointer;\n",
              "    display: none;\n",
              "    fill: var(--fill-color);\n",
              "    height: 32px;\n",
              "    padding: 0;\n",
              "    width: 32px;\n",
              "  }\n",
              "\n",
              "  .colab-df-quickchart:hover {\n",
              "    background-color: var(--hover-bg-color);\n",
              "    box-shadow: 0 1px 2px rgba(60, 64, 67, 0.3), 0 1px 3px 1px rgba(60, 64, 67, 0.15);\n",
              "    fill: var(--button-hover-fill-color);\n",
              "  }\n",
              "\n",
              "  .colab-df-quickchart-complete:disabled,\n",
              "  .colab-df-quickchart-complete:disabled:hover {\n",
              "    background-color: var(--disabled-bg-color);\n",
              "    fill: var(--disabled-fill-color);\n",
              "    box-shadow: none;\n",
              "  }\n",
              "\n",
              "  .colab-df-spinner {\n",
              "    border: 2px solid var(--fill-color);\n",
              "    border-color: transparent;\n",
              "    border-bottom-color: var(--fill-color);\n",
              "    animation:\n",
              "      spin 1s steps(1) infinite;\n",
              "  }\n",
              "\n",
              "  @keyframes spin {\n",
              "    0% {\n",
              "      border-color: transparent;\n",
              "      border-bottom-color: var(--fill-color);\n",
              "      border-left-color: var(--fill-color);\n",
              "    }\n",
              "    20% {\n",
              "      border-color: transparent;\n",
              "      border-left-color: var(--fill-color);\n",
              "      border-top-color: var(--fill-color);\n",
              "    }\n",
              "    30% {\n",
              "      border-color: transparent;\n",
              "      border-left-color: var(--fill-color);\n",
              "      border-top-color: var(--fill-color);\n",
              "      border-right-color: var(--fill-color);\n",
              "    }\n",
              "    40% {\n",
              "      border-color: transparent;\n",
              "      border-right-color: var(--fill-color);\n",
              "      border-top-color: var(--fill-color);\n",
              "    }\n",
              "    60% {\n",
              "      border-color: transparent;\n",
              "      border-right-color: var(--fill-color);\n",
              "    }\n",
              "    80% {\n",
              "      border-color: transparent;\n",
              "      border-right-color: var(--fill-color);\n",
              "      border-bottom-color: var(--fill-color);\n",
              "    }\n",
              "    90% {\n",
              "      border-color: transparent;\n",
              "      border-bottom-color: var(--fill-color);\n",
              "    }\n",
              "  }\n",
              "</style>\n",
              "\n",
              "  <script>\n",
              "    async function quickchart(key) {\n",
              "      const quickchartButtonEl =\n",
              "        document.querySelector('#' + key + ' button');\n",
              "      quickchartButtonEl.disabled = true;  // To prevent multiple clicks.\n",
              "      quickchartButtonEl.classList.add('colab-df-spinner');\n",
              "      try {\n",
              "        const charts = await google.colab.kernel.invokeFunction(\n",
              "            'suggestCharts', [key], {});\n",
              "      } catch (error) {\n",
              "        console.error('Error during call to suggestCharts:', error);\n",
              "      }\n",
              "      quickchartButtonEl.classList.remove('colab-df-spinner');\n",
              "      quickchartButtonEl.classList.add('colab-df-quickchart-complete');\n",
              "    }\n",
              "    (() => {\n",
              "      let quickchartButtonEl =\n",
              "        document.querySelector('#df-d265d7e3-74e4-4049-94a6-eab06c49772f button');\n",
              "      quickchartButtonEl.style.display =\n",
              "        google.colab.kernel.accessAllowed ? 'block' : 'none';\n",
              "    })();\n",
              "  </script>\n",
              "</div>\n",
              "\n",
              "    </div>\n",
              "  </div>\n"
            ],
            "application/vnd.google.colaboratory.intrinsic+json": {
              "type": "dataframe",
              "summary": "{\n  \"name\": \"df\",\n  \"rows\": 3,\n  \"fields\": [\n    {\n      \"column\": \"review\",\n      \"properties\": {\n        \"dtype\": \"string\",\n        \"num_unique_values\": 3,\n        \"samples\": [\n          \"What more could I say? The Americans totally hated it because the U.S. cut was so bad, although you could detect the underlying goodwill in it.<br /><br />Talking about the U.S. theatrical release(along with the newly released Blu-ray Disc version), it's faster and tighter than HK cut, the background musics were all changed from the dark, grim HK musics to Hip-hop musics; and there were a lot of gruesome scenes cut out. Though, the dubbing was a notable job given that they tried to capture the original actor's voice and tone. But, the problem is Hak Hap(Black Mask) the movie was designed and meant to be dark, grim, super-disturbing and totally gruesome. Very unfortunately the U.S. release just skimmed the cream they wanted, which in return completely changed the movie's undertone(HK release was rated 18+) to be even more comical and amateurish.<br /><br />Now let's talk about the original HK release. This movie is like a hidden gem, a prototype for the whole \\\"matrix\\\" tide and era. The fighting scenes are totally awesome even the camera works were a bit \\\"old-school\\\" among HK movies. However the style the movie created was a unique blend of Kungfu and pop culture. With all the leather, black costumes and decorations, this movie features a batman-like superhero in a black mask against a run-of-the-mill gang of multinational super-soldiers lead by a punk heavy metal rock star boss. Yes it sounds like imaginations of a retarded child, but it works. It's so impressive that the whole movie's gonna give you nightmares featuring foreigners fighting a bloodbath battle in leather coats. In year 2002 they made a sequel which had a PG-13 rating, but without Jet Li and Liu Qing Yun. And you know how bad that was because Li and Liu were the core characters in the movie and had strong personalities and an interesting friendship. And, did I happen to mention Francois Yip? Her roundhouse kick was totally cool, even cooler than the villain boss because she didn't use a stuntman for all the fighting. Did I mention she was also smoking hot? Anyway, there are a lot of things to like about the movie.<br /><br />However, the movie also suffered from a lot of problems. First off, it's a mediocre script made at its best potential, which means this production team deserved a better screen-writer. There are a lot climaxes in the entire 100 minutes but they often felt like far-fetched and don't totally make senses to the audiences(US version was even worse because all the character developments were cut). Anyway, you can't ask too much out of a comic-inspired action movie. Also, this movie is entirely improper for children. I won't recommend it to you if you are less than 20 years old. It's saturated with disturbing contents including blood, gore, sado-maso costumes, extreme brutal violence and so on. Along with the style of the movie, it can be called a wet dream for heavy-metal rock music fans and action fans. (the U.S. cut was milder, but if you want to see it, see the HK release for what it is.) 7/10. Status: inspiring, hidden, undervalued, adult.\",\n          \"Why do movie makers always go against the author's work? I mean, yes, things have to be condensed for the sake of viewer interest, but look at Anne of Green Gables. They did a wonderful job of combining important events into a cohesive whole that was simply delightful. I can't believe that they chose to combine three novels together for Anne of Avonlea into such a dreadful mess. Look at all they missed out on by doing that . . . Paul Irving, little Elizabeth, the widows, Windy Poplars . . . and Anne's college years, for heaven's sake!!! Wouldn't it have been delightful to meet Priscilla and all the rest of the Redmond gang? Kevin Sullivan should have taken things one movie at a time, instead of jumbling them all together and combining characters and events the way he did. This movie was good, if you leave the novels out of it!! But L.M. Montgomery's beautiful work is something that should not be denied. This movie was a let down after seeing the successful way he brough Anne of Green Gables to life.\",\n          \"Derek Jarman has shown us time and time again that dialog is not his strong suit. He is a painter, and paint he does. His films are almost always visually splendid, but about as exciting to watch as paint that is already dry. Watch his movies in fast forward, the really fast setting that you can only get on DVD. In The Tempest, Jarman does very little with the script or the characters, using them as simply a lattice to hang a very long and well-constructed cinematographic frame. He even goes so far as to contradict Shakespeare's original script to achieve these excrucriatingly slow and lifeless scenes. There is none of the romance, magic, trickery, or urgency the script calls for, little spontaneity, and the character of Caliban in particular is reduced to a quivering and insane idiot of sorts, similar to Gaveston in Jarman's Edward II. It is too bad that this is just about the only film version of The Tempest available.\"\n        ],\n        \"semantic_type\": \"\",\n        \"description\": \"\"\n      }\n    },\n    {\n      \"column\": \"sentiment\",\n      \"properties\": {\n        \"dtype\": \"string\",\n        \"num_unique_values\": 2,\n        \"samples\": [\n          \"negative\",\n          \"positive\"\n        ],\n        \"semantic_type\": \"\",\n        \"description\": \"\"\n      }\n    }\n  ]\n}"
            }
          },
          "metadata": {},
          "execution_count": 7
        }
      ]
    },
    {
      "cell_type": "code",
      "source": [
        "tokenizer = get_tokenizer('basic_english')\n",
        "tokenizer"
      ],
      "metadata": {
        "colab": {
          "base_uri": "https://localhost:8080/",
          "height": 186
        },
        "id": "FFbOg2QVnplc",
        "outputId": "7a19c105-ceac-43f3-f5f1-f621bcc17a82"
      },
      "execution_count": null,
      "outputs": [
        {
          "output_type": "execute_result",
          "data": {
            "text/plain": [
              "<function torchtext.data.utils._basic_english_normalize(line)>"
            ],
            "text/html": [
              "<div style=\"max-width:800px; border: 1px solid var(--colab-border-color);\"><style>\n",
              "      pre.function-repr-contents {\n",
              "        overflow-x: auto;\n",
              "        padding: 8px 12px;\n",
              "        max-height: 500px;\n",
              "      }\n",
              "\n",
              "      pre.function-repr-contents.function-repr-contents-collapsed {\n",
              "        cursor: pointer;\n",
              "        max-height: 100px;\n",
              "      }\n",
              "    </style>\n",
              "    <pre style=\"white-space: initial; background:\n",
              "         var(--colab-secondary-surface-color); padding: 8px 12px;\n",
              "         border-bottom: 1px solid var(--colab-border-color);\"><b>torchtext.data.utils._basic_english_normalize</b><br/>def _basic_english_normalize(line)</pre><pre class=\"function-repr-contents function-repr-contents-collapsed\" style=\"\"><a class=\"filepath\" style=\"display:none\" href=\"#\">/usr/local/lib/python3.10/dist-packages/torchtext/data/utils.py</a>Basic normalization for a line of text.\n",
              "Normalization includes\n",
              "- lowercasing\n",
              "- complete some basic text normalization for English words as follows:\n",
              "    add spaces before and after &#x27;\\&#x27;&#x27;\n",
              "    remove &#x27;\\&quot;&#x27;,\n",
              "    add spaces before and after &#x27;.&#x27;\n",
              "    replace &#x27;&lt;br \\/&gt;&#x27;with single space\n",
              "    add spaces before and after &#x27;,&#x27;\n",
              "    add spaces before and after &#x27;(&#x27;\n",
              "    add spaces before and after &#x27;)&#x27;\n",
              "    add spaces before and after &#x27;!&#x27;\n",
              "    add spaces before and after &#x27;?&#x27;\n",
              "    replace &#x27;;&#x27; with single space\n",
              "    replace &#x27;:&#x27; with single space\n",
              "    replace multiple spaces with single space\n",
              "\n",
              "Returns a list of tokens after splitting on whitespace.</pre>\n",
              "      <script>\n",
              "      if (google.colab.kernel.accessAllowed && google.colab.files && google.colab.files.view) {\n",
              "        for (const element of document.querySelectorAll('.filepath')) {\n",
              "          element.style.display = 'block'\n",
              "          element.onclick = (event) => {\n",
              "            event.preventDefault();\n",
              "            event.stopPropagation();\n",
              "            google.colab.files.view(element.textContent, 24);\n",
              "          };\n",
              "        }\n",
              "      }\n",
              "      for (const element of document.querySelectorAll('.function-repr-contents')) {\n",
              "        element.onclick = (event) => {\n",
              "          event.preventDefault();\n",
              "          event.stopPropagation();\n",
              "          element.classList.toggle('function-repr-contents-collapsed');\n",
              "        };\n",
              "      }\n",
              "      </script>\n",
              "      </div>"
            ]
          },
          "metadata": {},
          "execution_count": 8
        }
      ]
    },
    {
      "cell_type": "code",
      "source": [
        "def yield_tokens(data_iter):\n",
        "    for text in data_iter:\n",
        "        yield tokenizer(text)\n"
      ],
      "metadata": {
        "id": "oxLnOXEUnxJp"
      },
      "execution_count": null,
      "outputs": []
    },
    {
      "cell_type": "code",
      "source": [
        "# Tokens addes via `specials` parameter, will get index of 0, 1 ...\n",
        "vocab = build_vocab_from_iterator(yield_tokens(df['review']), specials= ['<unk>', '<pad>'])\n",
        "\n",
        "# Any token not found in the vocabulary will be assigned the index of <xx>\n",
        "vocab.set_default_index(vocab['<unk>'])"
      ],
      "metadata": {
        "id": "uUh8KN2RoDc1"
      },
      "execution_count": null,
      "outputs": []
    },
    {
      "cell_type": "code",
      "source": [
        "# all the unknown words will have the same idx as `<unk>`\n",
        "vocab['<pad>'], vocab['<unk>'], vocab['<qqqqxx>']"
      ],
      "metadata": {
        "colab": {
          "base_uri": "https://localhost:8080/"
        },
        "id": "ILxS0iYt0xqB",
        "outputId": "b6e27482-3127-4df2-8959-c04c8b64d96d"
      },
      "execution_count": null,
      "outputs": [
        {
          "output_type": "execute_result",
          "data": {
            "text/plain": [
              "(1, 0, 0)"
            ]
          },
          "metadata": {},
          "execution_count": 11
        }
      ]
    },
    {
      "cell_type": "code",
      "source": [
        "set(df['sentiment'])"
      ],
      "metadata": {
        "colab": {
          "base_uri": "https://localhost:8080/"
        },
        "id": "9myXBZLUpK1O",
        "outputId": "4bae2003-66cc-4323-e3cb-4bf426b25ee8"
      },
      "execution_count": null,
      "outputs": [
        {
          "output_type": "execute_result",
          "data": {
            "text/plain": [
              "{'negative', 'positive'}"
            ]
          },
          "metadata": {},
          "execution_count": 12
        }
      ]
    },
    {
      "cell_type": "code",
      "source": [
        "data_sentiments = torch.tensor((df['sentiment'] == 'positive') * 1.)\n",
        "# To avoid: RuntimeError: expected scalar type Long but found Double\n",
        "data_sentiments = data_sentiments.type(torch.LongTensor)\n",
        "type(data_sentiments)"
      ],
      "metadata": {
        "colab": {
          "base_uri": "https://localhost:8080/"
        },
        "id": "DEmTbY2PpCDX",
        "outputId": "b012495f-ade1-46fc-9cdd-6b1b58722904"
      },
      "execution_count": null,
      "outputs": [
        {
          "output_type": "execute_result",
          "data": {
            "text/plain": [
              "torch.Tensor"
            ]
          },
          "metadata": {},
          "execution_count": 13
        }
      ]
    },
    {
      "cell_type": "code",
      "source": [
        "data_reviews = df['review'].apply(lambda review: vocab(tokenizer(review)))\n"
      ],
      "metadata": {
        "id": "DuklpIrcpUHY"
      },
      "execution_count": null,
      "outputs": []
    },
    {
      "cell_type": "code",
      "source": [],
      "metadata": {
        "id": "hUiCRkXMpl2W"
      },
      "execution_count": null,
      "outputs": []
    },
    {
      "cell_type": "code",
      "source": [
        "class SentimentDataset(Dataset):\n",
        "    def __init__(self, reviews, sentiments):\n",
        "        self.reviews = reviews\n",
        "        self.sentiments = sentiments\n",
        "\n",
        "    def __len__(self):\n",
        "        return len(self.reviews)\n",
        "\n",
        "    def __getitem__(self, idx):\n",
        "        # sentiment is already a tensor.\n",
        "        return torch.tensor(self.reviews[idx]), self.sentiments[idx]\n"
      ],
      "metadata": {
        "id": "_hQxrjucosey"
      },
      "execution_count": null,
      "outputs": []
    },
    {
      "cell_type": "code",
      "source": [
        "dataset = SentimentDataset(data_reviews, data_sentiments)\n"
      ],
      "metadata": {
        "id": "XsVp108sqaD6"
      },
      "execution_count": null,
      "outputs": []
    },
    {
      "cell_type": "code",
      "source": [
        "type(dataset)"
      ],
      "metadata": {
        "colab": {
          "base_uri": "https://localhost:8080/",
          "height": 186
        },
        "id": "C4-DMyloqy-F",
        "outputId": "59b56ec3-8648-4011-ddfe-dba19a864382"
      },
      "execution_count": null,
      "outputs": [
        {
          "output_type": "execute_result",
          "data": {
            "text/plain": [
              "__main__.SentimentDataset"
            ],
            "text/html": [
              "<div style=\"max-width:800px; border: 1px solid var(--colab-border-color);\"><style>\n",
              "      pre.function-repr-contents {\n",
              "        overflow-x: auto;\n",
              "        padding: 8px 12px;\n",
              "        max-height: 500px;\n",
              "      }\n",
              "\n",
              "      pre.function-repr-contents.function-repr-contents-collapsed {\n",
              "        cursor: pointer;\n",
              "        max-height: 100px;\n",
              "      }\n",
              "    </style>\n",
              "    <pre style=\"white-space: initial; background:\n",
              "         var(--colab-secondary-surface-color); padding: 8px 12px;\n",
              "         border-bottom: 1px solid var(--colab-border-color);\"><b>SentimentDataset</b><br/>def __init__(reviews, sentiments)</pre><pre class=\"function-repr-contents function-repr-contents-collapsed\" style=\"\"><a class=\"filepath\" style=\"display:none\" href=\"#\"></a>An abstract class representing a :class:`Dataset`.\n",
              "\n",
              "All datasets that represent a map from keys to data samples should subclass\n",
              "it. All subclasses should overwrite :meth:`__getitem__`, supporting fetching a\n",
              "data sample for a given key. Subclasses could also optionally overwrite\n",
              ":meth:`__len__`, which is expected to return the size of the dataset by many\n",
              ":class:`~torch.utils.data.Sampler` implementations and the default options\n",
              "of :class:`~torch.utils.data.DataLoader`. Subclasses could also\n",
              "optionally implement :meth:`__getitems__`, for speedup batched samples\n",
              "loading. This method accepts list of indices of samples of batch and returns\n",
              "list of samples.\n",
              "\n",
              ".. note::\n",
              "  :class:`~torch.utils.data.DataLoader` by default constructs an index\n",
              "  sampler that yields integral indices.  To make it work with a map-style\n",
              "  dataset with non-integral indices/keys, a custom sampler must be provided.</pre></div>"
            ]
          },
          "metadata": {},
          "execution_count": 17
        }
      ]
    },
    {
      "cell_type": "code",
      "source": [
        "def collate_fn(batch):\n",
        "    \"\"\"\n",
        "    Make all the reviews in a given batch the same size, by padding to the end.\n",
        "    All the reviews in the list `reviews_padded`\n",
        "    will be the same size as the review with the most word.\n",
        "    \"\"\"\n",
        "    reviews = [itm[0] for itm in batch]\n",
        "    sentiments = [itm[1] for itm in batch]\n",
        "    reviews_padded = pad_sequence(reviews, batch_first= True, padding_value= vocab['<pad>'])\n",
        "    return reviews_padded, torch.tensor(sentiments)"
      ],
      "metadata": {
        "id": "YronILjaq1x7"
      },
      "execution_count": null,
      "outputs": []
    },
    {
      "cell_type": "code",
      "source": [],
      "metadata": {
        "id": "LRzv7QioqSqR"
      },
      "execution_count": null,
      "outputs": []
    },
    {
      "cell_type": "code",
      "source": [
        "class SentimentModel(nn.Module):\n",
        "    def __init__(self, vocab_size, embed_dim, num_classes):\n",
        "        super().__init__()\n",
        "        self.embedding = nn.EmbeddingBag(vocab_size, embed_dim, sparse= True)\n",
        "        self.fc = nn.Linear(embed_dim, num_classes)\n",
        "\n",
        "    def forward(self, txt):\n",
        "        txt_embed = self.embedding(txt)\n",
        "        return self.fc(txt_embed)\n"
      ],
      "metadata": {
        "id": "FCWSu4OKrxsL"
      },
      "execution_count": null,
      "outputs": []
    },
    {
      "cell_type": "code",
      "source": [
        "VOCAB_SIZE = len(vocab)\n",
        "EMBED_SIZE = 128\n",
        "NUM_CLASSES = 2\n",
        "model = SentimentModel(VOCAB_SIZE, EMBED_SIZE, NUM_CLASSES)"
      ],
      "metadata": {
        "id": "8f7FbWYSByAv"
      },
      "execution_count": null,
      "outputs": []
    },
    {
      "cell_type": "code",
      "source": [
        "data_trn, data_dev, data_tst = random_split(dataset, [.8, .1, .1])\n",
        "len(data_trn)"
      ],
      "metadata": {
        "colab": {
          "base_uri": "https://localhost:8080/"
        },
        "id": "GICl-9xkCElK",
        "outputId": "2ec014a6-7b8a-4cd9-ef03-53a2be7caa3d"
      },
      "execution_count": null,
      "outputs": [
        {
          "output_type": "execute_result",
          "data": {
            "text/plain": [
              "40000"
            ]
          },
          "metadata": {},
          "execution_count": 21
        }
      ]
    },
    {
      "cell_type": "code",
      "source": [
        "BATCH_SIZE = 2\n",
        "\n",
        "loader_trn = DataLoader(data_trn, batch_size= BATCH_SIZE, shuffle= True, collate_fn= collate_fn)\n",
        "loader_dev = DataLoader(data_dev, batch_size= BATCH_SIZE, shuffle= False, collate_fn= collate_fn)\n",
        "loader_tst = DataLoader(data_tst, batch_size= BATCH_SIZE, shuffle= False, collate_fn= collate_fn)\n",
        "\n",
        "len(loader_trn), len(loader_tst)"
      ],
      "metadata": {
        "colab": {
          "base_uri": "https://localhost:8080/"
        },
        "id": "4OTg-hkkD830",
        "outputId": "ffd81854-a5f8-421d-83fd-ba32ff99ac70"
      },
      "execution_count": null,
      "outputs": [
        {
          "output_type": "execute_result",
          "data": {
            "text/plain": [
              "(20000, 2500)"
            ]
          },
          "metadata": {},
          "execution_count": 22
        }
      ]
    },
    {
      "cell_type": "code",
      "source": [
        "criterion = nn.CrossEntropyLoss()\n",
        "\n",
        "# RuntimeError: Adam does not support sparse gradients, please consider SparseAdam instead\n",
        "#optimizer = torch.optim.Adam(params= model.parameters(), lr= .001)\n",
        "\n",
        "optimizer= torch.optim.SGD(model.parameters(), lr= 0.01)"
      ],
      "metadata": {
        "id": "jeQQcYKuEvnS"
      },
      "execution_count": null,
      "outputs": []
    },
    {
      "cell_type": "code",
      "source": [
        "NUM_EPOCHS = 15\n",
        "for e in range(NUM_EPOCHS):\n",
        "    model.train()\n",
        "    loss_total = 0\n",
        "    for reviews, sentiments in loader_trn:\n",
        "        optimizer.zero_grad()\n",
        "        logits = model(reviews)\n",
        "        loss = criterion(logits, sentiments)\n",
        "        loss.backward()\n",
        "        optimizer.step()\n",
        "        loss_total += loss.item()\n",
        "    print(f'Epoch {e+1}/{NUM_EPOCHS} --- Loss: {loss_total / len(loader_trn):.4f}')"
      ],
      "metadata": {
        "colab": {
          "base_uri": "https://localhost:8080/"
        },
        "id": "fnn9Dpk1FoX6",
        "outputId": "afa852c2-8c5a-47a5-c9a7-61cbabcde9f7"
      },
      "execution_count": null,
      "outputs": [
        {
          "output_type": "stream",
          "name": "stdout",
          "text": [
            "Epoch 1/15 --- Loss: 0.6584\n",
            "Epoch 2/15 --- Loss: 0.6194\n",
            "Epoch 3/15 --- Loss: 0.5973\n",
            "Epoch 4/15 --- Loss: 0.5803\n",
            "Epoch 5/15 --- Loss: 0.5646\n",
            "Epoch 6/15 --- Loss: 0.5497\n",
            "Epoch 7/15 --- Loss: 0.5382\n",
            "Epoch 8/15 --- Loss: 0.5256\n",
            "Epoch 9/15 --- Loss: 0.5144\n",
            "Epoch 10/15 --- Loss: 0.5036\n",
            "Epoch 11/15 --- Loss: 0.4949\n",
            "Epoch 12/15 --- Loss: 0.4877\n",
            "Epoch 13/15 --- Loss: 0.4798\n",
            "Epoch 14/15 --- Loss: 0.4721\n",
            "Epoch 15/15 --- Loss: 0.4653\n"
          ]
        }
      ]
    },
    {
      "cell_type": "code",
      "source": [],
      "metadata": {
        "id": "0sfH8RBRGimR"
      },
      "execution_count": null,
      "outputs": []
    },
    {
      "cell_type": "code",
      "source": [
        "model.eval()\n",
        "all_preds = []\n",
        "all_labels = []\n",
        "\n",
        "with torch.no_grad():\n",
        "    for reviews, sentiments in loader_dev:\n",
        "        logits = model(reviews)\n",
        "        preds = torch.argmax(logits, dim=1)\n",
        "        all_preds.extend(preds.tolist())\n",
        "        all_labels.extend(sentiments.tolist())\n",
        "\n",
        "accuracy = accuracy_score(all_labels, all_preds)\n",
        "print(f'Validation Accuracy: {accuracy:.3f}')\n"
      ],
      "metadata": {
        "colab": {
          "base_uri": "https://localhost:8080/"
        },
        "id": "P1P76epzGgCb",
        "outputId": "cb44c086-aaa8-4807-ac72-8cfbf814bbf7"
      },
      "execution_count": null,
      "outputs": [
        {
          "output_type": "stream",
          "name": "stdout",
          "text": [
            "Validation Accuracy: 0.778\n"
          ]
        }
      ]
    },
    {
      "cell_type": "code",
      "source": [
        "# Evaluation loop\n",
        "model.eval()\n",
        "with torch.no_grad():\n",
        "    correct, total = 0, 0\n",
        "    for reviews, sentiments in loader_dev:\n",
        "        logits = model(reviews)\n",
        "        _, predicted = torch.max(logits, 1)\n",
        "        total += sentiments.size(0)\n",
        "        correct += (predicted == sentiments).sum().item()\n",
        "    print(f'Accuracy on validation set: {100 * correct / total:.2f}%')"
      ],
      "metadata": {
        "colab": {
          "base_uri": "https://localhost:8080/"
        },
        "id": "zJOmMK32Oxtp",
        "outputId": "6ab03e63-63e0-431f-ae37-8c53a9951a09"
      },
      "execution_count": null,
      "outputs": [
        {
          "output_type": "stream",
          "name": "stdout",
          "text": [
            "Accuracy on validation set: 77.84%\n"
          ]
        }
      ]
    },
    {
      "cell_type": "code",
      "source": [],
      "metadata": {
        "id": "hq_8id42tbVV"
      },
      "execution_count": null,
      "outputs": []
    }
  ]
}